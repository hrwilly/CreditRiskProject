{
 "cells": [
  {
   "cell_type": "markdown",
   "id": "b7256128",
   "metadata": {},
   "source": [
    "# DURATION-NEUTRAL DTS-TARGET STRESS TEST"
   ]
  },
  {
   "cell_type": "code",
   "execution_count": 2,
   "id": "0b671e65",
   "metadata": {},
   "outputs": [
    {
     "data": {
      "text/html": [
       "<div><style>\n",
       ".dataframe > thead > tr,\n",
       ".dataframe > tbody > tr {\n",
       "  text-align: right;\n",
       "  white-space: pre-wrap;\n",
       "}\n",
       "</style>\n",
       "<small>shape: (378, 11)</small><table border=\"1\" class=\"dataframe\"><thead><tr><th>coupon_income</th><th>capital_gains</th><th>hedge_cost</th><th>portfolio_cost</th><th>total_return</th><th>excess_return</th><th>date</th><th>bucket</th><th>rf_rate</th><th>pct_return</th><th>log_return</th></tr><tr><td>f64</td><td>f64</td><td>f64</td><td>f64</td><td>f64</td><td>f64</td><td>date</td><td>i64</td><td>f64</td><td>f64</td><td>f64</td></tr></thead><tbody><tr><td>0.0</td><td>0.0</td><td>2.402919</td><td>100.721128</td><td>0.0</td><td>0.0</td><td>2022-05-18</td><td>1</td><td>0.001</td><td>0.0</td><td>0.0</td></tr><tr><td>0.0</td><td>0.0</td><td>5.351416</td><td>98.650057</td><td>0.0</td><td>0.0</td><td>2022-05-18</td><td>2</td><td>0.001</td><td>0.0</td><td>0.0</td></tr><tr><td>0.0</td><td>0.0</td><td>14.502309</td><td>94.387951</td><td>0.0</td><td>0.0</td><td>2022-05-18</td><td>3</td><td>0.001</td><td>0.0</td><td>0.0</td></tr><tr><td>2.082298</td><td>0.15425</td><td>-0.265294</td><td>101.12161</td><td>2.557952</td><td>-0.576818</td><td>2022-05-25</td><td>1</td><td>0.001</td><td>0.025296</td><td>0.024981</td></tr><tr><td>2.886862</td><td>0.112217</td><td>-0.915174</td><td>99.033699</td><td>4.148431</td><td>0.187083</td><td>2022-05-25</td><td>2</td><td>0.001</td><td>0.041889</td><td>0.041035</td></tr><tr><td>&hellip;</td><td>&hellip;</td><td>&hellip;</td><td>&hellip;</td><td>&hellip;</td><td>&hellip;</td><td>&hellip;</td><td>&hellip;</td><td>&hellip;</td><td>&hellip;</td><td>&hellip;</td></tr><tr><td>3.614204</td><td>-0.033451</td><td>-12.319218</td><td>97.506407</td><td>20.821681</td><td>-55.233317</td><td>2024-11-06</td><td>2</td><td>0.02</td><td>0.213542</td><td>0.193543</td></tr><tr><td>3.013474</td><td>-1.552656</td><td>29.062552</td><td>70.247179</td><td>-19.271047</td><td>-64.229242</td><td>2024-11-06</td><td>3</td><td>0.02</td><td>-0.274332</td><td>-0.320663</td></tr><tr><td>5.330372</td><td>0.057681</td><td>-7.389142</td><td>96.193708</td><td>15.635603</td><td>-36.308999</td><td>2024-11-13</td><td>1</td><td>0.02</td><td>0.162543</td><td>0.15061</td></tr><tr><td>3.631793</td><td>0.048026</td><td>14.222083</td><td>97.59681</td><td>-8.022574</td><td>-88.051958</td><td>2024-11-13</td><td>2</td><td>0.02</td><td>-0.082201</td><td>-0.085777</td></tr><tr><td>2.866637</td><td>1.816479</td><td>-4.414335</td><td>70.676365</td><td>13.62933</td><td>-30.190016</td><td>2024-11-13</td><td>3</td><td>0.02</td><td>0.192841</td><td>0.176338</td></tr></tbody></table></div>"
      ],
      "text/plain": [
       "shape: (378, 11)\n",
       "┌───────────────┬───────────────┬────────────┬────────────────┬───┬────────┬─────────┬────────────┬────────────┐\n",
       "│ coupon_income ┆ capital_gains ┆ hedge_cost ┆ portfolio_cost ┆ … ┆ bucket ┆ rf_rate ┆ pct_return ┆ log_return │\n",
       "│ ---           ┆ ---           ┆ ---        ┆ ---            ┆   ┆ ---    ┆ ---     ┆ ---        ┆ ---        │\n",
       "│ f64           ┆ f64           ┆ f64        ┆ f64            ┆   ┆ i64    ┆ f64     ┆ f64        ┆ f64        │\n",
       "╞═══════════════╪═══════════════╪════════════╪════════════════╪═══╪════════╪═════════╪════════════╪════════════╡\n",
       "│ 0.0           ┆ 0.0           ┆ 2.402919   ┆ 100.721128     ┆ … ┆ 1      ┆ 0.001   ┆ 0.0        ┆ 0.0        │\n",
       "│ 0.0           ┆ 0.0           ┆ 5.351416   ┆ 98.650057      ┆ … ┆ 2      ┆ 0.001   ┆ 0.0        ┆ 0.0        │\n",
       "│ 0.0           ┆ 0.0           ┆ 14.502309  ┆ 94.387951      ┆ … ┆ 3      ┆ 0.001   ┆ 0.0        ┆ 0.0        │\n",
       "│ 2.082298      ┆ 0.15425       ┆ -0.265294  ┆ 101.12161      ┆ … ┆ 1      ┆ 0.001   ┆ 0.025296   ┆ 0.024981   │\n",
       "│ 2.886862      ┆ 0.112217      ┆ -0.915174  ┆ 99.033699      ┆ … ┆ 2      ┆ 0.001   ┆ 0.041889   ┆ 0.041035   │\n",
       "│ …             ┆ …             ┆ …          ┆ …              ┆ … ┆ …      ┆ …       ┆ …          ┆ …          │\n",
       "│ 3.614204      ┆ -0.033451     ┆ -12.319218 ┆ 97.506407      ┆ … ┆ 2      ┆ 0.02    ┆ 0.213542   ┆ 0.193543   │\n",
       "│ 3.013474      ┆ -1.552656     ┆ 29.062552  ┆ 70.247179      ┆ … ┆ 3      ┆ 0.02    ┆ -0.274332  ┆ -0.320663  │\n",
       "│ 5.330372      ┆ 0.057681      ┆ -7.389142  ┆ 96.193708      ┆ … ┆ 1      ┆ 0.02    ┆ 0.162543   ┆ 0.15061    │\n",
       "│ 3.631793      ┆ 0.048026      ┆ 14.222083  ┆ 97.59681       ┆ … ┆ 2      ┆ 0.02    ┆ -0.082201  ┆ -0.085777  │\n",
       "│ 2.866637      ┆ 1.816479      ┆ -4.414335  ┆ 70.676365      ┆ … ┆ 3      ┆ 0.02    ┆ 0.192841   ┆ 0.176338   │\n",
       "└───────────────┴───────────────┴────────────┴────────────────┴───┴────────┴─────────┴────────────┴────────────┘"
      ]
     },
     "execution_count": 2,
     "metadata": {},
     "output_type": "execute_result"
    }
   ],
   "source": [
    "import polars as pl\n",
    "import numpy as np\n",
    "from scipy.stats import norm\n",
    "import pandas as pd\n",
    "\n",
    "import warnings\n",
    "warnings.filterwarnings('ignore')\n",
    "\n",
    "# Load trading results\n",
    "results = pl.read_excel(\"Data/DTSResults.xlsx\").with_columns((pl.col('total_return') / pl.col('portfolio_cost')).alias('pct_return'))\n",
    "results = results.with_columns(np.log(1 + pl.col('pct_return')).alias('log_return'))\n",
    "\n",
    "results"
   ]
  },
  {
   "cell_type": "markdown",
   "id": "acb90726",
   "metadata": {},
   "source": [
    "- calculate mu and sigma using EWMA"
   ]
  },
  {
   "cell_type": "code",
   "execution_count": 3,
   "id": "015275fd",
   "metadata": {},
   "outputs": [
    {
     "data": {
      "text/html": [
       "<div><style>\n",
       ".dataframe > thead > tr,\n",
       ".dataframe > tbody > tr {\n",
       "  text-align: right;\n",
       "  white-space: pre-wrap;\n",
       "}\n",
       "</style>\n",
       "<small>shape: (52, 4)</small><table border=\"1\" class=\"dataframe\"><thead><tr><th>date</th><th>1</th><th>2</th><th>3</th></tr><tr><td>date</td><td>f64</td><td>f64</td><td>f64</td></tr></thead><tbody><tr><td>2023-11-08</td><td>-0.031055</td><td>0.086246</td><td>-0.188572</td></tr><tr><td>2023-11-15</td><td>0.114765</td><td>-0.039418</td><td>0.204301</td></tr><tr><td>2023-11-22</td><td>-0.050544</td><td>0.09244</td><td>-0.218956</td></tr><tr><td>2023-11-29</td><td>0.113529</td><td>-0.062497</td><td>0.188643</td></tr><tr><td>2023-12-06</td><td>-0.053549</td><td>0.064607</td><td>-0.205046</td></tr><tr><td>&hellip;</td><td>&hellip;</td><td>&hellip;</td><td>&hellip;</td></tr><tr><td>2024-10-16</td><td>0.128193</td><td>-0.076667</td><td>0.162838</td></tr><tr><td>2024-10-23</td><td>-0.038053</td><td>0.16511</td><td>-0.334145</td></tr><tr><td>2024-10-30</td><td>0.129295</td><td>-0.086185</td><td>0.141702</td></tr><tr><td>2024-11-06</td><td>-0.037872</td><td>0.193543</td><td>-0.320663</td></tr><tr><td>2024-11-13</td><td>0.15061</td><td>-0.085777</td><td>0.176338</td></tr></tbody></table></div>"
      ],
      "text/plain": [
       "shape: (52, 4)\n",
       "┌────────────┬───────────┬───────────┬───────────┐\n",
       "│ date       ┆ 1         ┆ 2         ┆ 3         │\n",
       "│ ---        ┆ ---       ┆ ---       ┆ ---       │\n",
       "│ date       ┆ f64       ┆ f64       ┆ f64       │\n",
       "╞════════════╪═══════════╪═══════════╪═══════════╡\n",
       "│ 2023-11-08 ┆ -0.031055 ┆ 0.086246  ┆ -0.188572 │\n",
       "│ 2023-11-15 ┆ 0.114765  ┆ -0.039418 ┆ 0.204301  │\n",
       "│ 2023-11-22 ┆ -0.050544 ┆ 0.09244   ┆ -0.218956 │\n",
       "│ 2023-11-29 ┆ 0.113529  ┆ -0.062497 ┆ 0.188643  │\n",
       "│ 2023-12-06 ┆ -0.053549 ┆ 0.064607  ┆ -0.205046 │\n",
       "│ …          ┆ …         ┆ …         ┆ …         │\n",
       "│ 2024-10-16 ┆ 0.128193  ┆ -0.076667 ┆ 0.162838  │\n",
       "│ 2024-10-23 ┆ -0.038053 ┆ 0.16511   ┆ -0.334145 │\n",
       "│ 2024-10-30 ┆ 0.129295  ┆ -0.086185 ┆ 0.141702  │\n",
       "│ 2024-11-06 ┆ -0.037872 ┆ 0.193543  ┆ -0.320663 │\n",
       "│ 2024-11-13 ┆ 0.15061   ┆ -0.085777 ┆ 0.176338  │\n",
       "└────────────┴───────────┴───────────┴───────────┘"
      ]
     },
     "execution_count": 3,
     "metadata": {},
     "output_type": "execute_result"
    }
   ],
   "source": [
    "result = results.tail(52 * 3)\n",
    "result = result.select('bucket', 'log_return', 'date')\n",
    "final = result.pivot(columns = 'bucket', index = 'date', values = 'log_return')\n",
    "\n",
    "final"
   ]
  },
  {
   "cell_type": "code",
   "execution_count": 4,
   "id": "399c9f8f-7193-4dce-a9ca-94f9e6bf3786",
   "metadata": {},
   "outputs": [],
   "source": [
    "def EWMA(mu, cov, X):\n",
    "        cov = theta * cov  + (1 - theta) * np.outer((X - mu), (X - mu).T)\n",
    "        mu = lambd * mu + (1 - lambd) * X\n",
    "    \n",
    "        return mu, cov\n",
    "    \n",
    "def initialize():\n",
    "    mu = np.array([0, 0, 0])\n",
    "    cov = np.array([[0, 0, 0], [0, 0, 0], [0, 0, 0]])\n",
    "    \n",
    "    for i in range(len(final)):\n",
    "        X = np.array([final['1'][i], final['2'][i], final['3'][i]])\n",
    "        mu, cov = EWMA(mu, cov, X)\n",
    "\n",
    "    return mu, cov, X\n",
    "\n",
    "lambd = 0.97\n",
    "theta = 0.97\n",
    "alpha = 0.95\n",
    "K = 4\n",
    "port_value = 1000000"
   ]
  },
  {
   "cell_type": "code",
   "execution_count": 5,
   "id": "d0c31888-6bba-469f-9304-0eb0d784dcad",
   "metadata": {},
   "outputs": [],
   "source": [
    "def simulation_shock2(mu, cov, X, shock = True):\n",
    "\n",
    "    if shock == True:\n",
    "        mu2 = mu[1]\n",
    "        var2 = cov[1][1]\n",
    "        X[1] = mu2 - 5 * np.sqrt(var2)\n",
    "    \n",
    "        std_devs = np.sqrt(np.diag(cov))\n",
    "        rho = cov / np.outer(std_devs, std_devs)\n",
    "        \n",
    "        mu1 = mu[0] + (rho[0][1] * np.sqrt(cov[0][0]) / np.sqrt(cov[1][1])) * (X[1] - mu2)\n",
    "        var1 = cov[0][0] * (1 - rho[0][1]**2)\n",
    "        \n",
    "        X[0] = mu1 - 5 * np.sqrt(var1)\n",
    "    \n",
    "        mu3 = mu[2] + (rho[1][2] * np.sqrt(cov[2][2]) / np.sqrt(cov[1][1])) * (X[1] - mu2)\n",
    "        var3 = cov[2][2] * (1 - rho[1][2]**2)\n",
    "        \n",
    "        X[2] = mu3 - 5 * np.sqrt(var3)\n",
    "\n",
    "    else:\n",
    "        X[0] = mu[0]\n",
    "        X[1] = mu[1]\n",
    "        X[2] = mu[2]\n",
    "        \n",
    "\n",
    "    # Now the mu and cov are at t + 2 delta\n",
    "    mu, cov = EWMA(mu, cov, X)\n",
    "\n",
    "    sum_X = X\n",
    "\n",
    "    for i in range(2, K + 1):\n",
    "        X_samp = np.random.multivariate_normal(mu, cov)\n",
    "        sum_X += X_samp\n",
    "        if i != K:\n",
    "            mu, cov = EWMA(mu, cov, X)\n",
    "\n",
    "    return -port_value * sum_X\n",
    "\n",
    "def simulation_shock1(mu, cov, X, shock = True):\n",
    "\n",
    "    if shock == True:\n",
    "        mu1 = mu[0]\n",
    "        var1 = cov[0][0]\n",
    "        X[0] = mu1 - 5 * np.sqrt(var1)\n",
    "    \n",
    "        std_devs = np.sqrt(np.diag(cov))\n",
    "        rho = cov / np.outer(std_devs, std_devs)\n",
    "        \n",
    "        mu2 = mu[1] + (rho[0][1] * np.sqrt(cov[1][1]) / np.sqrt(cov[0][0])) * (X[0] - mu1)\n",
    "        var2 = cov[1][1] * (1 - rho[0][1]**2)\n",
    "        \n",
    "        X[1] = mu2 - 5 * np.sqrt(var2)\n",
    "    \n",
    "        mu3 = mu[2] + (rho[0][2] * np.sqrt(cov[2][2]) / np.sqrt(cov[0][0])) * (X[0] - mu1)\n",
    "        var3 = cov[2][2] * (1 - rho[0][2]**2)\n",
    "        \n",
    "        X[2] = mu3 - 5 * np.sqrt(var3)\n",
    "\n",
    "    else:\n",
    "        X[0] = mu[0]\n",
    "        X[1] = mu[1]\n",
    "        X[2] = mu[2]\n",
    "        \n",
    "\n",
    "    # Now the mu and cov are at t + 2 delta\n",
    "    mu, cov = EWMA(mu, cov, X)\n",
    "\n",
    "    sum_X = X\n",
    "\n",
    "    for i in range(2, K + 1):\n",
    "        X_samp = np.random.multivariate_normal(mu, cov)\n",
    "        sum_X += X_samp\n",
    "        if i != K:\n",
    "            mu, cov = EWMA(mu, cov, X)\n",
    "\n",
    "    return -port_value * sum_X\n",
    "\n",
    "def simulation_shock3(mu, cov, X, shock = True):\n",
    "\n",
    "    if shock == True:\n",
    "        mu3 = mu[2]\n",
    "        var3 = cov[2][2]\n",
    "        X[2] = mu3 - 5 * np.sqrt(var3)\n",
    "    \n",
    "        std_devs = np.sqrt(np.diag(cov))\n",
    "        rho = cov / np.outer(std_devs, std_devs)\n",
    "        \n",
    "        mu2 = mu[1] + (rho[2][1] * np.sqrt(cov[1][1]) / np.sqrt(cov[2][2])) * (X[2] - mu3)\n",
    "        var2 = cov[1][1] * (1 - rho[2][1]**2)\n",
    "        \n",
    "        X[1] = mu2 - 5 * np.sqrt(var2)\n",
    "    \n",
    "        mu1 = mu[0] + (rho[0][2] * np.sqrt(cov[0][0]) / np.sqrt(cov[2][2])) * (X[2] - mu3)\n",
    "        var1 = cov[0][0] * (1 - rho[0][2]**2)\n",
    "        \n",
    "        X[0] = mu1 - 5 * np.sqrt(var1)\n",
    "\n",
    "    else:\n",
    "        X[0] = mu[0]\n",
    "        X[1] = mu[1]\n",
    "        X[2] = mu[2]\n",
    "        \n",
    "\n",
    "    # Now the mu and cov are at t + 2 delta\n",
    "    mu, cov = EWMA(mu, cov, X)\n",
    "\n",
    "    sum_X = X\n",
    "\n",
    "    for i in range(2, K + 1):\n",
    "        X_samp = np.random.multivariate_normal(mu, cov)\n",
    "        sum_X += X_samp\n",
    "        if i != K:\n",
    "            mu, cov = EWMA(mu, cov, X)\n",
    "\n",
    "    return -port_value * sum_X"
   ]
  },
  {
   "cell_type": "code",
   "execution_count": 6,
   "id": "bf5d2794-dc5b-4daf-bfea-1b55e8b01c64",
   "metadata": {},
   "outputs": [],
   "source": [
    "sums = []\n",
    "weights = np.array([0.6, 0.3, 0.1])\n",
    "mu, cov, X = initialize()\n",
    "\n",
    "for i in range(50000):\n",
    "    sum = simulation_shock1(mu, cov, X, True)\n",
    "    sums.append(np.dot(weights, sum.copy()))\n",
    "\n",
    "losses_shock1 = pl.DataFrame(sums).rename({'column_0' : 'Low'})"
   ]
  },
  {
   "cell_type": "code",
   "execution_count": 7,
   "id": "ed1a1073-29b1-454f-95c8-f67561592ed3",
   "metadata": {},
   "outputs": [],
   "source": [
    "sums = []\n",
    "weights = np.array([0.6, 0.3, 0.1])\n",
    "mu, cov, X = initialize()\n",
    "\n",
    "for i in range(50000):\n",
    "    sum = simulation_shock2(mu, cov, X, True)\n",
    "    sums.append(np.dot(weights, sum.copy()))\n",
    "\n",
    "losses_shock2 = pl.DataFrame(sums).rename({'column_0' : 'Mid'})"
   ]
  },
  {
   "cell_type": "code",
   "execution_count": 8,
   "id": "cb2214e0-a080-44a1-b1b8-f3574d3bd9dc",
   "metadata": {},
   "outputs": [],
   "source": [
    "sums = []\n",
    "weights = np.array([0.6, 0.3, 0.1])\n",
    "mu, cov, X = initialize()\n",
    "\n",
    "for i in range(50000):\n",
    "    sum = simulation_shock3(mu, cov, X, True)\n",
    "    sums.append(np.dot(weights, sum.copy()))\n",
    "\n",
    "losses_shock3 = pl.DataFrame(sums).rename({'column_0' : 'High'})"
   ]
  },
  {
   "cell_type": "code",
   "execution_count": 9,
   "id": "9e19eae0-2bb3-41c5-92d5-bead6330b998",
   "metadata": {},
   "outputs": [],
   "source": [
    "sums = []\n",
    "weights = np.array([0.6, 0.3, 0.1])\n",
    "mu, cov, X = initialize()\n",
    "\n",
    "for i in range(50000):\n",
    "    sum = simulation_shock1(mu, cov, X, False)\n",
    "    sums.append(np.dot(weights, sum.copy()))\n",
    "\n",
    "losses_1 = pl.DataFrame(sums).rename({'column_0' : 'Low'})"
   ]
  },
  {
   "cell_type": "code",
   "execution_count": 10,
   "id": "0ece2573-9196-4fcb-8f1f-5a8a8ee3ef35",
   "metadata": {},
   "outputs": [],
   "source": [
    "sums = []\n",
    "weights = np.array([0.6, 0.3, 0.1])\n",
    "mu, cov, X = initialize()\n",
    "\n",
    "for i in range(50000):\n",
    "    sum = simulation_shock2(mu, cov, X, False)\n",
    "    sums.append(np.dot(weights, sum.copy()))\n",
    "\n",
    "losses_2 = pl.DataFrame(sums).rename({'column_0' : 'Mid'})"
   ]
  },
  {
   "cell_type": "code",
   "execution_count": 11,
   "id": "57e43658-4486-448d-a264-cf6c69b7ce1e",
   "metadata": {},
   "outputs": [],
   "source": [
    "sums = []\n",
    "weights = np.array([0.6, 0.3, 0.1])\n",
    "mu, cov, X = initialize()\n",
    "\n",
    "for i in range(50000):\n",
    "    sum = simulation_shock3(mu, cov, X, False)\n",
    "    sums.append(np.dot(weights, sum.copy()))\n",
    "\n",
    "losses_3 = pl.DataFrame(sums).rename({'column_0' : 'High'})"
   ]
  },
  {
   "cell_type": "code",
   "execution_count": 12,
   "id": "37fa24c2-a88f-46bb-bbf8-5bb6cdf0b6c0",
   "metadata": {},
   "outputs": [],
   "source": [
    "avg_shock1 = losses_shock1.mean().to_pandas().rename({0 : 'shock'})\n",
    "avg_shock2 = losses_shock2.mean().to_pandas().rename({0 : 'shock'})\n",
    "avg_shock3 = losses_shock3.mean().to_pandas().rename({0 : 'shock'})\n",
    "\n",
    "avg_1 = losses_1.mean().to_pandas().rename({0 : 'no shock'})\n",
    "avg_2 = losses_2.mean().to_pandas().rename({0 : 'no shock'})\n",
    "avg_3 = losses_3.mean().to_pandas().rename({0 : 'no shock'})"
   ]
  },
  {
   "cell_type": "code",
   "execution_count": 17,
   "id": "85d97e9d-7823-498f-a0f7-789c667ebb15",
   "metadata": {},
   "outputs": [
    {
     "data": {
      "text/html": [
       "<div>\n",
       "<style scoped>\n",
       "    .dataframe tbody tr th:only-of-type {\n",
       "        vertical-align: middle;\n",
       "    }\n",
       "\n",
       "    .dataframe tbody tr th {\n",
       "        vertical-align: top;\n",
       "    }\n",
       "\n",
       "    .dataframe thead th {\n",
       "        text-align: right;\n",
       "    }\n",
       "</style>\n",
       "<table border=\"1\" class=\"dataframe\">\n",
       "  <thead>\n",
       "    <tr style=\"text-align: right;\">\n",
       "      <th></th>\n",
       "      <th>shock</th>\n",
       "      <th>no shock</th>\n",
       "    </tr>\n",
       "  </thead>\n",
       "  <tbody>\n",
       "    <tr>\n",
       "      <th>Low</th>\n",
       "      <td>372407.77</td>\n",
       "      <td>-120550.55</td>\n",
       "    </tr>\n",
       "    <tr>\n",
       "      <th>Mid</th>\n",
       "      <td>57549.83</td>\n",
       "      <td>-119301.39</td>\n",
       "    </tr>\n",
       "    <tr>\n",
       "      <th>High</th>\n",
       "      <td>389093.93</td>\n",
       "      <td>-119839.89</td>\n",
       "    </tr>\n",
       "  </tbody>\n",
       "</table>\n",
       "</div>"
      ],
      "text/plain": [
       "          shock   no shock\n",
       "Low   372407.77 -120550.55\n",
       "Mid    57549.83 -119301.39\n",
       "High  389093.93 -119839.89"
      ]
     },
     "execution_count": 17,
     "metadata": {},
     "output_type": "execute_result"
    }
   ],
   "source": [
    "round(pd.concat([avg_shock1, avg_1]).join(pd.concat([avg_shock2, avg_2])).join(pd.concat([avg_shock3, avg_3])).transpose(), 2)"
   ]
  },
  {
   "cell_type": "code",
   "execution_count": 19,
   "id": "26e5bf48-8f82-4455-92d0-7d3ef8977774",
   "metadata": {},
   "outputs": [
    {
     "data": {
      "text/plain": [
       "shock       273017.176667\n",
       "no shock   -119897.276667\n",
       "dtype: float64"
      ]
     },
     "execution_count": 19,
     "metadata": {},
     "output_type": "execute_result"
    }
   ],
   "source": [
    "round(pd.concat([avg_shock1, avg_1]).join(pd.concat([avg_shock2, avg_2])).join(pd.concat([avg_shock3, avg_3])).transpose(), 2).mean()"
   ]
  },
  {
   "cell_type": "code",
   "execution_count": 14,
   "id": "9063015e-e9f6-441e-a2a1-d6ddfd9e83d7",
   "metadata": {},
   "outputs": [],
   "source": [
    "var_shock1 = losses_shock1.quantile(alpha).to_pandas().rename({0 : 'shock'})\n",
    "var_shock2 = losses_shock2.quantile(alpha).to_pandas().rename({0 : 'shock'})\n",
    "var_shock3 = losses_shock3.quantile(alpha).to_pandas().rename({0 : 'shock'})\n",
    "\n",
    "var_1 = losses_1.quantile(alpha).to_pandas().rename({0 : 'no shock'})\n",
    "var_2 = losses_2.quantile(alpha).to_pandas().rename({0 : 'no shock'})\n",
    "var_3 = losses_3.quantile(alpha).to_pandas().rename({0 : 'no shock'})"
   ]
  },
  {
   "cell_type": "code",
   "execution_count": 18,
   "id": "0fe65423-4e7d-4e55-bdbc-c5f837eb2904",
   "metadata": {},
   "outputs": [
    {
     "data": {
      "text/html": [
       "<div>\n",
       "<style scoped>\n",
       "    .dataframe tbody tr th:only-of-type {\n",
       "        vertical-align: middle;\n",
       "    }\n",
       "\n",
       "    .dataframe tbody tr th {\n",
       "        vertical-align: top;\n",
       "    }\n",
       "\n",
       "    .dataframe thead th {\n",
       "        text-align: right;\n",
       "    }\n",
       "</style>\n",
       "<table border=\"1\" class=\"dataframe\">\n",
       "  <thead>\n",
       "    <tr style=\"text-align: right;\">\n",
       "      <th></th>\n",
       "      <th>shock</th>\n",
       "      <th>no shock</th>\n",
       "    </tr>\n",
       "  </thead>\n",
       "  <tbody>\n",
       "    <tr>\n",
       "      <th>Low</th>\n",
       "      <td>718549.20</td>\n",
       "      <td>33474.31</td>\n",
       "    </tr>\n",
       "    <tr>\n",
       "      <th>Mid</th>\n",
       "      <td>245717.02</td>\n",
       "      <td>34231.51</td>\n",
       "    </tr>\n",
       "    <tr>\n",
       "      <th>High</th>\n",
       "      <td>740607.31</td>\n",
       "      <td>33230.76</td>\n",
       "    </tr>\n",
       "  </tbody>\n",
       "</table>\n",
       "</div>"
      ],
      "text/plain": [
       "          shock  no shock\n",
       "Low   718549.20  33474.31\n",
       "Mid   245717.02  34231.51\n",
       "High  740607.31  33230.76"
      ]
     },
     "execution_count": 18,
     "metadata": {},
     "output_type": "execute_result"
    }
   ],
   "source": [
    "round(pd.concat([var_shock1, var_1]).join(pd.concat([var_shock2, var_2])).join(pd.concat([var_shock3, var_3])).transpose(), 2)"
   ]
  },
  {
   "cell_type": "code",
   "execution_count": 20,
   "id": "fcb6cecc-5aec-4225-9e77-fd667f4d4f58",
   "metadata": {},
   "outputs": [
    {
     "data": {
      "text/plain": [
       "shock       568291.176667\n",
       "no shock     33645.526667\n",
       "dtype: float64"
      ]
     },
     "execution_count": 20,
     "metadata": {},
     "output_type": "execute_result"
    }
   ],
   "source": [
    "round(pd.concat([var_shock1, var_1]).join(pd.concat([var_shock2, var_2])).join(pd.concat([var_shock3, var_3])).transpose(), 2).mean()"
   ]
  }
 ],
 "metadata": {
  "kernelspec": {
   "display_name": "Python 3 (ipykernel)",
   "language": "python",
   "name": "python3"
  },
  "language_info": {
   "codemirror_mode": {
    "name": "ipython",
    "version": 3
   },
   "file_extension": ".py",
   "mimetype": "text/x-python",
   "name": "python",
   "nbconvert_exporter": "python",
   "pygments_lexer": "ipython3",
   "version": "3.10.13"
  }
 },
 "nbformat": 4,
 "nbformat_minor": 5
}
