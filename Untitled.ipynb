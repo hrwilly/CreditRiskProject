{
 "cells": [
  {
   "cell_type": "code",
   "execution_count": 95,
   "id": "b5cf7c05-9d66-4c4d-9092-d24d21df0c36",
   "metadata": {},
   "outputs": [
    {
     "name": "stderr",
     "output_type": "stream",
     "text": [
      "C:\\Users\\hanna\\AppData\\Local\\Temp\\ipykernel_2080\\3815509171.py:9: DeprecationWarning: `DataFrame.melt` is deprecated. Use `unpivot` instead, with `index` instead of `id_vars` and `on` instead of `value_vars`\n",
      "  price = price.melt(id_vars=[\"Date\", \"Type\"],\n",
      "C:\\Users\\hanna\\AppData\\Local\\Temp\\ipykernel_2080\\3815509171.py:14: DeprecationWarning: `DataFrame.melt` is deprecated. Use `unpivot` instead, with `index` instead of `id_vars` and `on` instead of `value_vars`\n",
      "  price = price.melt(id_vars=[\"Date\", \"Type\"],\n"
     ]
    }
   ],
   "source": [
    "import polars as pl\n",
    "\n",
    "def read_and_clean_price(file_path, type):\n",
    "    price = pl.read_excel(file_path, sheet_id = 2)\n",
    "\n",
    "    price = price.sort('Date').fill_null(strategy=\"backward\").with_columns(pl.lit(type).alias('Type'))\n",
    "\n",
    "    if type == 'IG':\n",
    "        price = price.melt(id_vars=[\"Date\", \"Type\"], \n",
    "                           value_vars=[\"3Y_price\", \"5Y_price\", \"7Y_price\", \"10Y_price\"],\n",
    "                           variable_name=\"Tenor\",\n",
    "                           value_name=\"Price\")\n",
    "    else:\n",
    "        price = price.melt(id_vars=[\"Date\", \"Type\"], \n",
    "                           value_vars=[\"3Y_price\", \"5Y_price\", \"7Y_price\"],\n",
    "                           variable_name=\"Tenor\",\n",
    "                           value_name=\"Price\")\n",
    "\n",
    "    price = price.with_columns(pl.col(\"Tenor\").str.extract(r\"(\\d+)\").cast(pl.Int64).alias(\"Tenor\"))\n",
    "\n",
    "    return price\n",
    "\n",
    "IG_price = read_and_clean_price('Data/CDX IG Price.xlsx', 'IG')\n",
    "HY_price = read_and_clean_price('Data/CDX HY Price.xlsx', 'HY')\n",
    "\n",
    "price = IG_price.join(HY_price, on = ['Date', 'Type', 'Tenor', 'Price'], how = 'full', coalesce = True).sort('Date')\n"
   ]
  },
  {
   "cell_type": "code",
   "execution_count": 96,
   "id": "0398ac77-931d-44be-9afa-6d1b3438f75b",
   "metadata": {},
   "outputs": [
    {
     "name": "stderr",
     "output_type": "stream",
     "text": [
      "C:\\Users\\hanna\\AppData\\Local\\Temp\\ipykernel_2080\\1726264005.py:6: DeprecationWarning: `DataFrame.melt` is deprecated. Use `unpivot` instead, with `index` instead of `id_vars` and `on` instead of `value_vars`\n",
      "  spread = spread.melt(id_vars=[\"Date\", \"Type\"],\n"
     ]
    }
   ],
   "source": [
    "def read_and_clean_spread(filepath, type):\n",
    "    spread = pl.read_excel(filepath).with_columns(pl.lit(type).alias('Type'))\n",
    "\n",
    "    spread = spread.sort('Date').fill_null(strategy=\"backward\").with_columns(pl.lit(type).alias('Type'))\n",
    "\n",
    "    spread = spread.melt(id_vars=[\"Date\", \"Type\"], \n",
    "                           value_vars=[\"3Y\", \"5Y\", \"7Y\", \"10Y\"],\n",
    "                           variable_name=\"Tenor\",\n",
    "                           value_name=\"Spread\")\n",
    "\n",
    "    return spread.with_columns(pl.col(\"Tenor\").str.extract(r\"(\\d+)\").cast(pl.Int64).alias(\"Tenor\"))\n",
    "\n",
    "\n",
    "\n",
    "IG_spread = read_and_clean_spread('Data/CDX IG Spread.xlsx', 'IG')\n",
    "HY_spread = read_and_clean_spread('Data/CDX HY Spread.xlsx', 'HY')\n",
    "\n",
    "spread = IG_spread.join(HY_spread, on = ['Date', 'Type', 'Tenor', 'Spread'], how = 'full', coalesce = True).sort('Date')"
   ]
  },
  {
   "cell_type": "code",
   "execution_count": 97,
   "id": "b4665c95-e34c-4686-acc4-4ff57cb4d99f",
   "metadata": {},
   "outputs": [],
   "source": [
    "data = price.join(spread, on = ['Date', 'Type', 'Tenor'], how = 'full', coalesce = True)#.drop_nulls()\n",
    "\n",
    "data = data.with_columns(((pl.col('Price') - pl.col('Price').shift(1).over('Type', 'Tenor')) / ((pl.col('Spread')) - (pl.col('Spread').shift(1).over('Type', 'Tenor')))).alias('dP/dS'))\n",
    "data = data.with_columns((pl.col('dP/dS') / pl.col('Price')).alias('Spread_Duration')).drop_nulls().drop('dP/dS')\n",
    "data = data.filter(pl.col('Spread_Duration').is_finite())"
   ]
  },
  {
   "cell_type": "code",
   "execution_count": 99,
   "id": "cd34b93f-65c4-477d-9ec5-a3ac9f597081",
   "metadata": {},
   "outputs": [],
   "source": [
    "data.to_pandas().to_excel('Data/TradingCDS.xlsx', index = False)"
   ]
  },
  {
   "cell_type": "code",
   "execution_count": 98,
   "id": "187118a5-8bc3-4aab-8360-af845e199b87",
   "metadata": {},
   "outputs": [
    {
     "data": {
      "text/html": [
       "<div><style>\n",
       ".dataframe > thead > tr,\n",
       ".dataframe > tbody > tr {\n",
       "  text-align: right;\n",
       "  white-space: pre-wrap;\n",
       "}\n",
       "</style>\n",
       "<small>shape: (5_288, 6)</small><table border=\"1\" class=\"dataframe\"><thead><tr><th>Date</th><th>Type</th><th>Tenor</th><th>Price</th><th>Spread</th><th>Spread_Duration</th></tr><tr><td>date</td><td>str</td><td>i64</td><td>f64</td><td>f64</td><td>f64</td></tr></thead><tbody><tr><td>2020-12-02</td><td>&quot;IG&quot;</td><td>3</td><td>29.827</td><td>31.7337</td><td>-0.119278</td></tr><tr><td>2020-12-02</td><td>&quot;IG&quot;</td><td>5</td><td>50.141</td><td>50.1426</td><td>0.01332</td></tr><tr><td>2020-12-02</td><td>&quot;IG&quot;</td><td>7</td><td>70.722</td><td>72.4517</td><td>0.028922</td></tr><tr><td>2020-12-02</td><td>&quot;IG&quot;</td><td>10</td><td>91.573</td><td>91.6614</td><td>0.01252</td></tr><tr><td>2020-12-02</td><td>&quot;HY&quot;</td><td>5</td><td>109.11</td><td>300.3361</td><td>-0.000451</td></tr><tr><td>&hellip;</td><td>&hellip;</td><td>&hellip;</td><td>&hellip;</td><td>&hellip;</td><td>&hellip;</td></tr><tr><td>2024-11-29</td><td>&quot;IG&quot;</td><td>7</td><td>67.816</td><td>68.2662</td><td>-0.0</td></tr><tr><td>2024-11-29</td><td>&quot;IG&quot;</td><td>10</td><td>87.811</td><td>87.8586</td><td>-0.0</td></tr><tr><td>2024-11-29</td><td>&quot;HY&quot;</td><td>7</td><td>109.802</td><td>325.7011</td><td>0.127747</td></tr><tr><td>2024-11-29</td><td>&quot;HY&quot;</td><td>5</td><td>108.579</td><td>295.0062</td><td>-0.0</td></tr><tr><td>2024-11-29</td><td>&quot;HY&quot;</td><td>3</td><td>107.374</td><td>237.1775</td><td>-0.000419</td></tr></tbody></table></div>"
      ],
      "text/plain": [
       "shape: (5_288, 6)\n",
       "┌────────────┬──────┬───────┬─────────┬──────────┬─────────────────┐\n",
       "│ Date       ┆ Type ┆ Tenor ┆ Price   ┆ Spread   ┆ Spread_Duration │\n",
       "│ ---        ┆ ---  ┆ ---   ┆ ---     ┆ ---      ┆ ---             │\n",
       "│ date       ┆ str  ┆ i64   ┆ f64     ┆ f64      ┆ f64             │\n",
       "╞════════════╪══════╪═══════╪═════════╪══════════╪═════════════════╡\n",
       "│ 2020-12-02 ┆ IG   ┆ 3     ┆ 29.827  ┆ 31.7337  ┆ -0.119278       │\n",
       "│ 2020-12-02 ┆ IG   ┆ 5     ┆ 50.141  ┆ 50.1426  ┆ 0.01332         │\n",
       "│ 2020-12-02 ┆ IG   ┆ 7     ┆ 70.722  ┆ 72.4517  ┆ 0.028922        │\n",
       "│ 2020-12-02 ┆ IG   ┆ 10    ┆ 91.573  ┆ 91.6614  ┆ 0.01252         │\n",
       "│ 2020-12-02 ┆ HY   ┆ 5     ┆ 109.11  ┆ 300.3361 ┆ -0.000451       │\n",
       "│ …          ┆ …    ┆ …     ┆ …       ┆ …        ┆ …               │\n",
       "│ 2024-11-29 ┆ IG   ┆ 7     ┆ 67.816  ┆ 68.2662  ┆ -0.0            │\n",
       "│ 2024-11-29 ┆ IG   ┆ 10    ┆ 87.811  ┆ 87.8586  ┆ -0.0            │\n",
       "│ 2024-11-29 ┆ HY   ┆ 7     ┆ 109.802 ┆ 325.7011 ┆ 0.127747        │\n",
       "│ 2024-11-29 ┆ HY   ┆ 5     ┆ 108.579 ┆ 295.0062 ┆ -0.0            │\n",
       "│ 2024-11-29 ┆ HY   ┆ 3     ┆ 107.374 ┆ 237.1775 ┆ -0.000419       │\n",
       "└────────────┴──────┴───────┴─────────┴──────────┴─────────────────┘"
      ]
     },
     "execution_count": 98,
     "metadata": {},
     "output_type": "execute_result"
    }
   ],
   "source": [
    "data"
   ]
  },
  {
   "cell_type": "code",
   "execution_count": null,
   "id": "07e305e8-ad35-4478-a9fe-9161e1cbc64c",
   "metadata": {},
   "outputs": [],
   "source": []
  }
 ],
 "metadata": {
  "kernelspec": {
   "display_name": "Python 3 (ipykernel)",
   "language": "python",
   "name": "python3"
  },
  "language_info": {
   "codemirror_mode": {
    "name": "ipython",
    "version": 3
   },
   "file_extension": ".py",
   "mimetype": "text/x-python",
   "name": "python",
   "nbconvert_exporter": "python",
   "pygments_lexer": "ipython3",
   "version": "3.10.13"
  }
 },
 "nbformat": 4,
 "nbformat_minor": 5
}
