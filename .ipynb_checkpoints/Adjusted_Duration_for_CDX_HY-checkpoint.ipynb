{
 "cells": [
  {
   "cell_type": "code",
   "execution_count": 5,
   "id": "9d293c24",
   "metadata": {},
   "outputs": [
    {
     "name": "stdout",
     "output_type": "stream",
     "text": [
      "Files cleaned and saved.\n"
     ]
    }
   ],
   "source": [
    "import pandas as pd\n",
    "\n",
    "\n",
    "HY_3 = pd.read_csv(\"CDX HY CDSI GEN 3Y RPC.csv\")\n",
    "HY_7 = pd.read_csv(\"CDX HY CDSI GEN 7Y PRC.csv\")\n",
    "HY_5 = pd.read_csv(\"CDX HY CDSI GEN 5Y PRC.csv\")\n",
    "HY_10 = pd.read_csv(\"CDX HY CDSI GEN 10Y PRC.csv\")\n",
    "\n",
    "\n",
    "HY_3.dropna(inplace=True)\n",
    "HY_7.dropna(inplace=True)\n",
    "HY_5.dropna(inplace=True)\n",
    "HY_10.dropna(inplace=True)\n",
    "\n",
    "HY_3.to_csv('CDX HY CDSI GEN 3Y RPC.csv', index=False)\n",
    "HY_7.to_csv('CDX HY CDSI GEN 7Y PRC.csv', index=False)\n",
    "HY_5.to_csv('CDX HY CDSI GEN 5Y PRC.csv', index=False)\n",
    "HY_10.to_csv('CDX HY CDSI GEN 10Y PRC.csv', index=False)\n",
    "\n",
    "print(\"Files cleaned and saved.\")\n"
   ]
  },
  {
   "cell_type": "code",
   "execution_count": 6,
   "id": "3d5a8dc2",
   "metadata": {},
   "outputs": [],
   "source": [
    "HY_spread = pd.read_csv(\"CDX HY Spread.csv\")\n",
    "HY_spread.dropna(inplace=True)\n",
    "HY_spread.to_csv('CDX HY Spread.csv', index=False)"
   ]
  },
  {
   "cell_type": "code",
   "execution_count": 14,
   "id": "3ed06ffd",
   "metadata": {},
   "outputs": [
    {
     "name": "stderr",
     "output_type": "stream",
     "text": [
      "/var/folders/1p/n04fkmlx1z986zsd6rfd69bw0000gn/T/ipykernel_26497/4147060936.py:6: UserWarning: Parsing dates in %d/%m/%Y format when dayfirst=False (the default) was specified. Pass `dayfirst=True` or specify a format to silence this warning.\n",
      "  spread_df['Date'] = pd.to_datetime(spread_df['Date'], errors='coerce')\n"
     ]
    }
   ],
   "source": [
    "import pandas as pd\n",
    "\n",
    "spread_df = pd.read_csv(\"CDX HY Spread.csv\")\n",
    "price_df = pd.read_csv(\"CDX HY CDSI GEN 3Y RPC.csv\")\n",
    "\n",
    "spread_df['Date'] = pd.to_datetime(spread_df['Date'], errors='coerce')\n",
    "price_df['Date'] = pd.to_datetime(price_df['Date'], errors='coerce')\n",
    "\n",
    "\n",
    "merged_df = pd.merge(price_df, spread_df[['Date', '3Y']], on='Date', how='inner')\n",
    "\n",
    "merged_df['Delta_P'] = merged_df['Last Price'].diff()  \n",
    "merged_df['Delta_S'] = merged_df['3Y'].diff()  \n",
    "merged_df['Duration'] = -merged_df['Delta_P'] / (merged_df['Delta_S'] * merged_df['Last Price']) \n",
    "merged_df = merged_df.dropna(subset=['Duration'])\n",
    "merged_df.rename(columns={\"3Y\": \"spread\"}, inplace=True)\n",
    "merged_df.drop(columns=[\"Delta_P\", \"Delta_S\"], inplace=True)\n",
    "merged_df.to_csv(\"new_CDX HY CDSI GEN 3Y RPC.csv\", index=False)\n",
    "\n",
    "\n"
   ]
  },
  {
   "cell_type": "code",
   "execution_count": 15,
   "id": "49667b0b",
   "metadata": {},
   "outputs": [
    {
     "name": "stderr",
     "output_type": "stream",
     "text": [
      "/var/folders/1p/n04fkmlx1z986zsd6rfd69bw0000gn/T/ipykernel_26497/1446804626.py:6: UserWarning: Parsing dates in %d/%m/%Y format when dayfirst=False (the default) was specified. Pass `dayfirst=True` or specify a format to silence this warning.\n",
      "  spread_df['Date'] = pd.to_datetime(spread_df['Date'], errors='coerce')\n"
     ]
    }
   ],
   "source": [
    "import pandas as pd\n",
    "\n",
    "spread_df = pd.read_csv(\"CDX HY Spread.csv\")\n",
    "price_df = pd.read_csv(\"CDX HY CDSI GEN 5Y PRC.csv\")\n",
    "\n",
    "spread_df['Date'] = pd.to_datetime(spread_df['Date'], errors='coerce')\n",
    "price_df['Date'] = pd.to_datetime(price_df['Date'], errors='coerce')\n",
    "\n",
    "\n",
    "merged_df = pd.merge(price_df, spread_df[['Date', '5Y']], on='Date', how='inner')\n",
    "\n",
    "merged_df['Delta_P'] = merged_df['Last Price'].diff() \n",
    "merged_df['Delta_S'] = merged_df['5Y'].diff()  \n",
    "merged_df['Duration'] = -merged_df['Delta_P'] / (merged_df['Delta_S'] * merged_df['Last Price']) \n",
    "merged_df = merged_df.dropna(subset=['Duration'])\n",
    "merged_df.rename(columns={\"5Y\": \"spread\"}, inplace=True)\n",
    "merged_df.drop(columns=[\"Delta_P\", \"Delta_S\"], inplace=True)\n",
    "merged_df.to_csv(\"new_CDX HY CDSI GEN 5Y RPC.csv\", index=False)"
   ]
  },
  {
   "cell_type": "code",
   "execution_count": 16,
   "id": "ab13e41a",
   "metadata": {},
   "outputs": [
    {
     "name": "stderr",
     "output_type": "stream",
     "text": [
      "/var/folders/1p/n04fkmlx1z986zsd6rfd69bw0000gn/T/ipykernel_26497/3141026543.py:6: UserWarning: Parsing dates in %d/%m/%Y format when dayfirst=False (the default) was specified. Pass `dayfirst=True` or specify a format to silence this warning.\n",
      "  spread_df['Date'] = pd.to_datetime(spread_df['Date'], errors='coerce')\n"
     ]
    }
   ],
   "source": [
    "import pandas as pd\n",
    "\n",
    "spread_df = pd.read_csv(\"CDX HY Spread.csv\")\n",
    "price_df = pd.read_csv(\"CDX HY CDSI GEN 7Y PRC.csv\")\n",
    "\n",
    "spread_df['Date'] = pd.to_datetime(spread_df['Date'], errors='coerce')\n",
    "price_df['Date'] = pd.to_datetime(price_df['Date'], errors='coerce')\n",
    "\n",
    "\n",
    "merged_df = pd.merge(price_df, spread_df[['Date', '7Y']], on='Date', how='inner')\n",
    "\n",
    "merged_df['Delta_P'] = merged_df['Last Price'].diff()  \n",
    "merged_df['Delta_S'] = merged_df['7Y'].diff()  \n",
    "merged_df['Duration'] = -merged_df['Delta_P'] / (merged_df['Delta_S'] * merged_df['Last Price']) \n",
    "merged_df = merged_df.dropna(subset=['Duration'])\n",
    "merged_df.rename(columns={\"7Y\": \"spread\"}, inplace=True)\n",
    "merged_df.drop(columns=[\"Delta_P\", \"Delta_S\"], inplace=True)\n",
    "merged_df.to_csv(\"new_CDX HY CDSI GEN 7Y RPC.csv\", index=False)"
   ]
  },
  {
   "cell_type": "code",
   "execution_count": 17,
   "id": "74078252",
   "metadata": {},
   "outputs": [
    {
     "name": "stderr",
     "output_type": "stream",
     "text": [
      "/var/folders/1p/n04fkmlx1z986zsd6rfd69bw0000gn/T/ipykernel_26497/3454836099.py:6: UserWarning: Parsing dates in %d/%m/%Y format when dayfirst=False (the default) was specified. Pass `dayfirst=True` or specify a format to silence this warning.\n",
      "  spread_df['Date'] = pd.to_datetime(spread_df['Date'], errors='coerce')\n",
      "/var/folders/1p/n04fkmlx1z986zsd6rfd69bw0000gn/T/ipykernel_26497/3454836099.py:7: UserWarning: Parsing dates in %d/%m/%Y format when dayfirst=False (the default) was specified. Pass `dayfirst=True` or specify a format to silence this warning.\n",
      "  price_df['Date'] = pd.to_datetime(price_df['Date'], errors='coerce')\n"
     ]
    }
   ],
   "source": [
    "import pandas as pd\n",
    "\n",
    "spread_df = pd.read_csv(\"CDX HY Spread.csv\")\n",
    "price_df = pd.read_csv(\"CDX HY CDSI GEN 10Y PRC.csv\")\n",
    "\n",
    "spread_df['Date'] = pd.to_datetime(spread_df['Date'], errors='coerce')\n",
    "price_df['Date'] = pd.to_datetime(price_df['Date'], errors='coerce')\n",
    "\n",
    "\n",
    "merged_df = pd.merge(price_df, spread_df[['Date', '10Y']], on='Date', how='inner')\n",
    "\n",
    "merged_df['Delta_P'] = merged_df['Last Price'].diff() \n",
    "merged_df['Delta_S'] = merged_df['10Y'].diff()  \n",
    "merged_df['Duration'] = -merged_df['Delta_P'] / (merged_df['Delta_S'] * merged_df['Last Price']) \n",
    "merged_df = merged_df.dropna(subset=['Duration'])\n",
    "merged_df.rename(columns={\"10Y\": \"spread\"}, inplace=True)\n",
    "merged_df.drop(columns=[\"Delta_P\", \"Delta_S\"], inplace=True)\n",
    "merged_df.to_csv(\"new_CDX HY CDSI GEN 10Y RPC.csv\", index=False)"
   ]
  },
  {
   "cell_type": "code",
   "execution_count": null,
   "id": "7e183ea0",
   "metadata": {},
   "outputs": [],
   "source": []
  }
 ],
 "metadata": {
  "kernelspec": {
   "display_name": "Python 3 (ipykernel)",
   "language": "python",
   "name": "python3"
  },
  "language_info": {
   "codemirror_mode": {
    "name": "ipython",
    "version": 3
   },
   "file_extension": ".py",
   "mimetype": "text/x-python",
   "name": "python",
   "nbconvert_exporter": "python",
   "pygments_lexer": "ipython3",
   "version": "3.11.5"
  }
 },
 "nbformat": 4,
 "nbformat_minor": 5
}
