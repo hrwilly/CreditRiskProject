{
 "cells": [
  {
   "cell_type": "code",
   "execution_count": 79,
   "id": "b59067c5-b737-4d3f-8a4a-93dc45db6ff9",
   "metadata": {},
   "outputs": [],
   "source": [
    "import polars as pl"
   ]
  },
  {
   "cell_type": "code",
   "execution_count": 80,
   "id": "4f992eb8-8574-4a7b-9988-da01a407321a",
   "metadata": {},
   "outputs": [
    {
     "name": "stderr",
     "output_type": "stream",
     "text": [
      "C:\\Users\\hanna\\AppData\\Local\\Temp\\ipykernel_17540\\1092224924.py:17: DeprecationWarning: `DataFrame.melt` is deprecated. Use `unpivot` instead, with `index` instead of `id_vars` and `on` instead of `value_vars`\n",
      "  price = price.melt(id_vars=[\"Date\", \"Type\"],\n",
      "C:\\Users\\hanna\\AppData\\Local\\Temp\\ipykernel_17540\\1092224924.py:22: DeprecationWarning: `DataFrame.melt` is deprecated. Use `unpivot` instead, with `index` instead of `id_vars` and `on` instead of `value_vars`\n",
      "  price = price.melt(id_vars=[\"Date\", \"Type\"],\n"
     ]
    }
   ],
   "source": [
    "def read_and_clean_price(file_path, type):\n",
    "    price = pl.read_excel(file_path, sheet_id = 2)\n",
    "\n",
    "    if type == 'IG':\n",
    "        price = price.filter(~(pl.col('3Y_price').is_null() & \n",
    "                               pl.col('5Y_price').is_null() &\n",
    "                               pl.col('7Y_price').is_null() &\n",
    "                               pl.col('10Y_price').is_null()))\n",
    "    else:\n",
    "        price = price.filter(~(pl.col('3Y_price').is_null() & \n",
    "                               pl.col('5Y_price').is_null() &\n",
    "                               pl.col('7Y_price').is_null()))\n",
    "\n",
    "    price = price.sort('Date').fill_null(strategy=\"backward\").with_columns(pl.lit(type).alias('Type'))\n",
    "\n",
    "    if type == 'IG':\n",
    "        price = price.melt(id_vars=[\"Date\", \"Type\"], \n",
    "                           value_vars=[\"3Y_price\", \"5Y_price\", \"7Y_price\", \"10Y_price\"],\n",
    "                           variable_name=\"Tenor\",\n",
    "                           value_name=\"Price\")\n",
    "    else:\n",
    "        price = price.melt(id_vars=[\"Date\", \"Type\"], \n",
    "                           value_vars=[\"3Y_price\", \"5Y_price\", \"7Y_price\"],\n",
    "                           variable_name=\"Tenor\",\n",
    "                           value_name=\"Price\")\n",
    "\n",
    "    price = price.with_columns(pl.col(\"Tenor\").str.extract(r\"(\\d+)\").cast(pl.Int64).alias(\"Tenor\"))\n",
    "\n",
    "    return price\n",
    "\n",
    "IG_price = read_and_clean('Data/CDX IG Price.xlsx', 'IG')\n",
    "HY_price = read_and_clean('Data/CDX HY Price.xlsx', 'HY')\n",
    "\n",
    "price = IG_price.join(HY_price, on = ['Date', 'Type', 'Tenor', 'Price'], how = 'full', coalesce = True).sort('Date')"
   ]
  },
  {
   "cell_type": "code",
   "execution_count": 81,
   "id": "c110e9d2-9641-44a1-b59d-da8d7f813b0a",
   "metadata": {},
   "outputs": [
    {
     "name": "stderr",
     "output_type": "stream",
     "text": [
      "C:\\Users\\hanna\\AppData\\Local\\Temp\\ipykernel_17540\\1726264005.py:6: DeprecationWarning: `DataFrame.melt` is deprecated. Use `unpivot` instead, with `index` instead of `id_vars` and `on` instead of `value_vars`\n",
      "  spread = spread.melt(id_vars=[\"Date\", \"Type\"],\n"
     ]
    }
   ],
   "source": [
    "def read_and_clean_spread(filepath, type):\n",
    "    spread = pl.read_excel(filepath).with_columns(pl.lit(type).alias('Type'))\n",
    "\n",
    "    spread = spread.sort('Date').fill_null(strategy=\"backward\").with_columns(pl.lit(type).alias('Type'))\n",
    "\n",
    "    spread = spread.melt(id_vars=[\"Date\", \"Type\"], \n",
    "                           value_vars=[\"3Y\", \"5Y\", \"7Y\", \"10Y\"],\n",
    "                           variable_name=\"Tenor\",\n",
    "                           value_name=\"Spread\")\n",
    "\n",
    "    return spread.with_columns(pl.col(\"Tenor\").str.extract(r\"(\\d+)\").cast(pl.Int64).alias(\"Tenor\"))\n",
    "\n",
    "\n",
    "\n",
    "IG_spread = read_and_clean_spread('Data/CDX IG Spread.xlsx', 'IG')\n",
    "HY_spread = read_and_clean_spread('Data/CDX HY Spread.xlsx', 'HY')\n",
    "\n",
    "spread = IG_spread.join(HY_spread, on = ['Date', 'Type', 'Tenor', 'Spread'], how = 'full', coalesce = True).sort('Date')"
   ]
  },
  {
   "cell_type": "code",
   "execution_count": 141,
   "id": "15487d6b-e6ff-4506-a2e4-aaa93917de9a",
   "metadata": {},
   "outputs": [],
   "source": [
    "data = price.join(spread, on = ['Date', 'Type', 'Tenor'], how = 'full', coalesce = True).drop_nulls()\n",
    "\n",
    "data = data.with_columns(((pl.col('Price') - pl.col('Price').shift(1).over('Type', 'Tenor')) / ((pl.col('Spread') / 10000) - (pl.col('Spread').shift(1).over('Type', 'Tenor') / 10000))).alias('dP/dS'))\n",
    "data = data.with_columns((pl.col('dP/dS') / pl.col('Price')).alias('Spread_Duration')).drop_nulls().drop('dP/dS')\n",
    "data = data.filter(pl.col('Spread_Duration').is_finite(), pl.col('Spread_Duration') >= 0)"
   ]
  },
  {
   "cell_type": "code",
   "execution_count": 144,
   "id": "64e58e33-397c-454e-8c70-25cba3d7bda2",
   "metadata": {},
   "outputs": [],
   "source": [
    "data.to_pandas().to_excel('Data/TradingCDS.xlsx', index = False)"
   ]
  },
  {
   "cell_type": "code",
   "execution_count": null,
   "id": "719735f9-2a5c-4069-b45c-1f22e33e9102",
   "metadata": {},
   "outputs": [],
   "source": []
  },
  {
   "cell_type": "code",
   "execution_count": null,
   "id": "0d704919-ec9b-4499-b739-84f19f704668",
   "metadata": {},
   "outputs": [],
   "source": []
  },
  {
   "cell_type": "code",
   "execution_count": null,
   "id": "98f9f9b3-a017-4009-8c42-f668a47b4ab2",
   "metadata": {},
   "outputs": [],
   "source": []
  }
 ],
 "metadata": {
  "kernelspec": {
   "display_name": "Python 3 (ipykernel)",
   "language": "python",
   "name": "python3"
  },
  "language_info": {
   "codemirror_mode": {
    "name": "ipython",
    "version": 3
   },
   "file_extension": ".py",
   "mimetype": "text/x-python",
   "name": "python",
   "nbconvert_exporter": "python",
   "pygments_lexer": "ipython3",
   "version": "3.10.13"
  }
 },
 "nbformat": 4,
 "nbformat_minor": 5
}
