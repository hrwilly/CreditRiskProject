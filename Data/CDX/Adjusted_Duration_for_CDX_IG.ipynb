{
 "cells": [
  {
   "cell_type": "code",
   "execution_count": 1,
   "id": "47cea735",
   "metadata": {},
   "outputs": [
    {
     "name": "stdout",
     "output_type": "stream",
     "text": [
      "Files cleaned and saved.\n"
     ]
    }
   ],
   "source": [
    "import pandas as pd\n",
    "\n",
    "\n",
    "IG_3 = pd.read_csv(\"CDX IG CDSI GEN 3Y.csv\")\n",
    "IG_7 = pd.read_csv(\"CDX IG CDSI GEN 7Y.csv\")\n",
    "IG_5 = pd.read_csv(\"CDX IG CDSI GEN 5Y.csv\")\n",
    "IG_10 = pd.read_csv(\"CDX IG CDSI GEN 10Y.csv\")\n",
    "\n",
    "IG_3.dropna(inplace=True)\n",
    "IG_7.dropna(inplace=True)\n",
    "IG_5.dropna(inplace=True)\n",
    "IG_10.dropna(inplace=True)\n",
    "\n",
    "\n",
    "IG_3.to_csv('CDX IG CDSI GEN 3Y.csv', index=False)\n",
    "IG_7.to_csv('CDX IG CDSI GEN 7Y.csv', index=False)\n",
    "IG_5.to_csv('CDX IG CDSI GEN 5Y.csv', index=False)\n",
    "IG_10.to_csv('CDX IG CDSI GEN 10Y.csv', index=False)\n",
    "\n",
    "print(\"Files cleaned and saved.\")\n"
   ]
  },
  {
   "cell_type": "code",
   "execution_count": 2,
   "id": "f459ea32",
   "metadata": {},
   "outputs": [],
   "source": [
    "IG_spread = pd.read_csv(\"CDX IG Spread.csv\")\n",
    "IG_spread.dropna(inplace=True)\n",
    "IG_spread.to_csv('CDX IG Spread.csv', index=False)"
   ]
  },
  {
   "cell_type": "code",
   "execution_count": 3,
   "id": "3308054c",
   "metadata": {},
   "outputs": [
    {
     "name": "stderr",
     "output_type": "stream",
     "text": [
      "/var/folders/1p/n04fkmlx1z986zsd6rfd69bw0000gn/T/ipykernel_29025/3683891301.py:6: UserWarning: Parsing dates in %d/%m/%Y format when dayfirst=False (the default) was specified. Pass `dayfirst=True` or specify a format to silence this warning.\n",
      "  spread_df['Date'] = pd.to_datetime(spread_df['Date'], errors='coerce')\n"
     ]
    }
   ],
   "source": [
    "import pandas as pd\n",
    "\n",
    "spread_df = pd.read_csv(\"CDX IG Spread.csv\")\n",
    "price_df = pd.read_csv(\"CDX IG CDSI GEN 3Y.csv\")\n",
    "\n",
    "spread_df['Date'] = pd.to_datetime(spread_df['Date'], errors='coerce')\n",
    "price_df['Date'] = pd.to_datetime(price_df['Date'], errors='coerce')\n",
    "\n",
    "\n",
    "merged_df = pd.merge(price_df, spread_df[['Date', '3Y']], on='Date', how='inner')\n",
    "\n",
    "merged_df['Delta_P'] = merged_df['Last Price'].diff() \n",
    "merged_df['Delta_S'] = merged_df['3Y'].diff()  \n",
    "merged_df['Duration'] = -merged_df['Delta_P'] / (merged_df['Delta_S'] * merged_df['Last Price']) \n",
    "merged_df = merged_df.dropna(subset=['Duration'])\n",
    "merged_df.rename(columns={\"3Y\": \"spread\"}, inplace=True)\n",
    "merged_df.drop(columns=[\"Delta_P\", \"Delta_S\"], inplace=True)\n",
    "merged_df.to_csv(\"new_CDX IG CDSI GEN 3Y.csv\", index=False)\n",
    "\n",
    "\n"
   ]
  },
  {
   "cell_type": "code",
   "execution_count": 4,
   "id": "3a86c38e",
   "metadata": {},
   "outputs": [
    {
     "name": "stderr",
     "output_type": "stream",
     "text": [
      "/var/folders/1p/n04fkmlx1z986zsd6rfd69bw0000gn/T/ipykernel_29025/634182820.py:6: UserWarning: Parsing dates in %d/%m/%Y format when dayfirst=False (the default) was specified. Pass `dayfirst=True` or specify a format to silence this warning.\n",
      "  spread_df['Date'] = pd.to_datetime(spread_df['Date'], errors='coerce')\n"
     ]
    }
   ],
   "source": [
    "import pandas as pd\n",
    "\n",
    "spread_df = pd.read_csv(\"CDX IG Spread.csv\")\n",
    "price_df = pd.read_csv(\"CDX IG CDSI GEN 5Y.csv\")\n",
    "\n",
    "spread_df['Date'] = pd.to_datetime(spread_df['Date'], errors='coerce')\n",
    "price_df['Date'] = pd.to_datetime(price_df['Date'], errors='coerce')\n",
    "\n",
    "\n",
    "merged_df = pd.merge(price_df, spread_df[['Date', '5Y']], on='Date', how='inner')\n",
    "\n",
    "merged_df['Delta_P'] = merged_df['Last Price'].diff()  \n",
    "merged_df['Delta_S'] = merged_df['5Y'].diff()  \n",
    "merged_df['Duration'] = -merged_df['Delta_P'] / (merged_df['Delta_S'] * merged_df['Last Price']) \n",
    "merged_df = merged_df.dropna(subset=['Duration'])\n",
    "merged_df.rename(columns={\"5Y\": \"spread\"}, inplace=True)\n",
    "merged_df.drop(columns=[\"Delta_P\", \"Delta_S\"], inplace=True)\n",
    "merged_df.to_csv(\"new_CDX IG CDSI GEN 5Y.csv\", index=False)\n"
   ]
  },
  {
   "cell_type": "code",
   "execution_count": 5,
   "id": "bcde4dd5",
   "metadata": {},
   "outputs": [
    {
     "name": "stderr",
     "output_type": "stream",
     "text": [
      "/var/folders/1p/n04fkmlx1z986zsd6rfd69bw0000gn/T/ipykernel_29025/1603415586.py:6: UserWarning: Parsing dates in %d/%m/%Y format when dayfirst=False (the default) was specified. Pass `dayfirst=True` or specify a format to silence this warning.\n",
      "  spread_df['Date'] = pd.to_datetime(spread_df['Date'], errors='coerce')\n"
     ]
    }
   ],
   "source": [
    "import pandas as pd\n",
    "\n",
    "spread_df = pd.read_csv(\"CDX IG Spread.csv\")\n",
    "price_df = pd.read_csv(\"CDX IG CDSI GEN 7Y.csv\")\n",
    "\n",
    "spread_df['Date'] = pd.to_datetime(spread_df['Date'], errors='coerce')\n",
    "price_df['Date'] = pd.to_datetime(price_df['Date'], errors='coerce')\n",
    "\n",
    "\n",
    "merged_df = pd.merge(price_df, spread_df[['Date', '7Y']], on='Date', how='inner')\n",
    "\n",
    "merged_df['Delta_P'] = merged_df['Last Price'].diff() \n",
    "merged_df['Delta_S'] = merged_df['7Y'].diff()  \n",
    "merged_df['Duration'] = -merged_df['Delta_P'] / (merged_df['Delta_S'] * merged_df['Last Price']) \n",
    "merged_df = merged_df.dropna(subset=['Duration'])\n",
    "merged_df.rename(columns={\"7Y\": \"spread\"}, inplace=True)\n",
    "merged_df.drop(columns=[\"Delta_P\", \"Delta_S\"], inplace=True)\n",
    "merged_df.to_csv(\"new_CDX IG CDSI GEN 7Y.csv\", index=False)"
   ]
  },
  {
   "cell_type": "code",
   "execution_count": 6,
   "id": "6d27b913",
   "metadata": {},
   "outputs": [
    {
     "name": "stderr",
     "output_type": "stream",
     "text": [
      "/var/folders/1p/n04fkmlx1z986zsd6rfd69bw0000gn/T/ipykernel_29025/1731140609.py:6: UserWarning: Parsing dates in %d/%m/%Y format when dayfirst=False (the default) was specified. Pass `dayfirst=True` or specify a format to silence this warning.\n",
      "  spread_df['Date'] = pd.to_datetime(spread_df['Date'], errors='coerce')\n"
     ]
    }
   ],
   "source": [
    "import pandas as pd\n",
    "\n",
    "spread_df = pd.read_csv(\"CDX IG Spread.csv\")\n",
    "price_df = pd.read_csv(\"CDX IG CDSI GEN 10Y.csv\")\n",
    "\n",
    "spread_df['Date'] = pd.to_datetime(spread_df['Date'], errors='coerce')\n",
    "price_df['Date'] = pd.to_datetime(price_df['Date'], errors='coerce')\n",
    "\n",
    "\n",
    "merged_df = pd.merge(price_df, spread_df[['Date', '10Y']], on='Date', how='inner')\n",
    "\n",
    "merged_df['Delta_P'] = merged_df['Last Price'].diff()  \n",
    "merged_df['Delta_S'] = merged_df['10Y'].diff() \n",
    "merged_df['Duration'] = -merged_df['Delta_P'] / (merged_df['Delta_S'] * merged_df['Last Price']) \n",
    "merged_df = merged_df.dropna(subset=['Duration'])\n",
    "merged_df.rename(columns={\"10Y\": \"spread\"}, inplace=True)\n",
    "merged_df.drop(columns=[\"Delta_P\", \"Delta_S\"], inplace=True)\n",
    "merged_df.to_csv(\"new_CDX IG CDSI GEN 10Y.csv\", index=False)"
   ]
  },
  {
   "cell_type": "code",
   "execution_count": null,
   "id": "70625e17",
   "metadata": {},
   "outputs": [],
   "source": []
  },
  {
   "cell_type": "code",
   "execution_count": null,
   "id": "2645c78d",
   "metadata": {},
   "outputs": [],
   "source": []
  },
  {
   "cell_type": "code",
   "execution_count": null,
   "id": "09bfd369",
   "metadata": {},
   "outputs": [],
   "source": []
  },
  {
   "cell_type": "code",
   "execution_count": null,
   "id": "5035e5d9",
   "metadata": {},
   "outputs": [],
   "source": []
  }
 ],
 "metadata": {
  "kernelspec": {
   "display_name": "Python 3 (ipykernel)",
   "language": "python",
   "name": "python3"
  },
  "language_info": {
   "codemirror_mode": {
    "name": "ipython",
    "version": 3
   },
   "file_extension": ".py",
   "mimetype": "text/x-python",
   "name": "python",
   "nbconvert_exporter": "python",
   "pygments_lexer": "ipython3",
   "version": "3.11.5"
  }
 },
 "nbformat": 4,
 "nbformat_minor": 5
}
